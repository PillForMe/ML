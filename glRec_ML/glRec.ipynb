{
 "cells": [
  {
   "cell_type": "code",
   "execution_count": 3,
   "metadata": {},
   "outputs": [
    {
     "name": "stderr",
     "output_type": "stream",
     "text": [
      "Loading checkpoint shards: 100%|██████████| 3/3 [00:10<00:00,  3.52s/it]\n",
      "Some weights of LlamaForSequenceClassification were not initialized from the model checkpoint at beomi/KoAlpaca-llama-1-7b and are newly initialized: ['score.weight']\n",
      "You should probably TRAIN this model on a down-stream task to be able to use it for predictions and inference.\n"
     ]
    }
   ],
   "source": [
    "# from transformers import BitsAndBytesConfig\n",
    "# from transformers import LlamaForCausalLM, LlamaConfig, LlamaForSequenceClassification, AutoTokenizer\n",
    "# from peft import LoraConfig, get_peft_model, get_peft_model_state_dict, \\\n",
    "#     set_peft_model_state_dict\n",
    "# import torch\n",
    "# import torch.nn as nn\n",
    "\n",
    "# lora_target_modules = [\n",
    "#     \"q_proj\",\n",
    "#     \"k_proj\",\n",
    "#     \"v_proj\",\n",
    "#     \"o_proj\"\n",
    "#     # \"q_proj_lora\",\n",
    "#     # \"k_proj_lora\",\n",
    "#     # \"v_proj_lora\",\n",
    "# ]\n",
    "\n",
    "# # 🎈=========================\n",
    "\n",
    "# config = LoraConfig(r=8,\n",
    "#                     lora_alpha= 32,\n",
    "#                     target_modules=lora_target_modules,\n",
    "#                     lora_dropout=0.2,\n",
    "#                     bias=\"none\",\n",
    "#                     task_type=\"SEQ_CLS\",\n",
    "#                     inference_mode=False,\n",
    "#                     )\n",
    "\n",
    "# bnb_config = BitsAndBytesConfig(\n",
    "#     load_in_4bit=True,\n",
    "#     bnb_4bit_use_double_quant=True,\n",
    "#     bnb_4bit_quant_type=\"nf4\",\n",
    "#     bnb_4bit_compute_dtype=torch.bfloat16\n",
    "# )\n",
    "\n",
    "# # Load the model from the checkpoint\n",
    "# checkpoint_path = \"./checkpoint-2000\"\n",
    "# model = LlamaForSequenceClassification.from_pretrained(\n",
    "#     checkpoint_path,\n",
    "#     num_labels=2,\n",
    "#     low_cpu_mem_usage=True,\n",
    "#     quantization_config=bnb_config\n",
    "# )\n",
    "\n",
    "# score_weights = torch.load(\"./checkpoint-2000\" + \"/score.original_module.pt\", map_location='cpu')\n",
    "# model.score.original_module.load_state_dict(score_weights)\n",
    "\n",
    "# tokenizer = AutoTokenizer.from_pretrained(\"./test\")\n",
    "\n",
    "# # Wrap with DataParallel if multiple GPUs are available\n",
    "# if torch.cuda.device_count() > 1:\n",
    "#     model = nn.DataParallel(model)\n",
    "\n",
    "# # Apply LoRA configuration\n",
    "# model = get_peft_model(model, config)\n",
    "# model = model.half()  # Convert to half precision\n",
    "\n",
    "# # Move model to GPU(s)\n",
    "# model.cuda()\n",
    "\n",
    "# # Ensure only LoRA parameters require gradients\n",
    "# for name, param in model.named_parameters():\n",
    "#     if \"lora\" in name:\n",
    "#         param.requires_grad = True\n",
    "#     else:\n",
    "#         param.requires_grad = False\n",
    "\n",
    "# # Move model to bfloat16 precision\n",
    "# model = model.to(torch.bfloat16)"
   ]
  },
  {
   "cell_type": "code",
   "execution_count": 4,
   "metadata": {},
   "outputs": [
    {
     "name": "stderr",
     "output_type": "stream",
     "text": [
      "Loading checkpoint shards:  33%|███▎      | 1/3 [00:03<00:06,  3.37s/it]"
     ]
    },
    {
     "ename": "",
     "evalue": "",
     "output_type": "error",
     "traceback": [
      "\u001b[1;31mThe Kernel crashed while executing code in the current cell or a previous cell. \n",
      "\u001b[1;31mPlease review the code in the cell(s) to identify a possible cause of the failure. \n",
      "\u001b[1;31mClick <a href='https://aka.ms/vscodeJupyterKernelCrash'>here</a> for more info. \n",
      "\u001b[1;31mView Jupyter <a href='command:jupyter.viewOutput'>log</a> for further details."
     ]
    }
   ],
   "source": [
    "# 필요한 라이브러리 임포트\n",
    "import torch\n",
    "from transformers import AutoModelForSequenceClassification, AutoTokenizer, LlamaForSequenceClassification\n",
    "\n",
    "# 모델과 토크나이저 불러오기\n",
    "model = AutoModelForSequenceClassification.from_pretrained(\"./test\")\n",
    "# model = LlamaForSequenceClassification.from_pretrained(args[\"output_dir\"]+\"/test\")\n",
    "tokenizer = AutoTokenizer.from_pretrained(\"./test\")\n",
    "\n",
    "\n",
    "# Move model to bfloat16 precision\n",
    "model = model.to(torch.bfloat16)\n",
    "# Move model to GPU(s)\n",
    "model.cuda()"
   ]
  },
  {
   "cell_type": "code",
   "execution_count": 2,
   "metadata": {},
   "outputs": [
    {
     "name": "stderr",
     "output_type": "stream",
     "text": [
      "/home/aiv-au/anaconda3/envs/minkyung_GLRec/lib/python3.11/site-packages/torch/distributed/distributed_c10d.py:366: UserWarning: torch.distributed.reduce_op is deprecated, please use torch.distributed.ReduceOp instead\n",
      "  warnings.warn(\n"
     ]
    }
   ],
   "source": [
    "# import gc\n",
    "\n",
    "# # 모델을 CPU로 이동시키고 변수 삭제\n",
    "# model.to('cpu')\n",
    "# del model\n",
    "# del tokenizer\n",
    "\n",
    "# # 모든 변수 삭제\n",
    "# for obj in gc.get_objects():\n",
    "#     if torch.is_tensor(obj):\n",
    "#         del obj\n",
    "\n",
    "# gc.collect()\n",
    "# torch.cuda.empty_cache()"
   ]
  },
  {
   "cell_type": "code",
   "execution_count": 3,
   "metadata": {},
   "outputs": [],
   "source": [
    "torch.cuda.empty_cache()\n",
    "torch.cuda.ipc_collect()"
   ]
  },
  {
   "cell_type": "code",
   "execution_count": 2,
   "metadata": {},
   "outputs": [],
   "source": [
    "sentences = [\n",
    "\"\"\"\n",
    "### 질문: 7606번의 유저에게 이 A를 추천할까요? 아니면 B를 추천할까요?\n",
    "\n",
    "### 맥락:7606번의 유저는 성별:남\\/연령대:30대\\/특이사항:없음\\/관심 있는 건강고민 정보:피부건강,스트레스&수면,혈당,호흡기건강\\/관심 있는 영양제 효능 정보:피로 개선의 특성을 가지고 있다.\n",
    "7606번의 유저는'센트룸_(단종) 멀티구미 남성용'라는 이름의 영양제를 구매한 이력이 있다.\n",
    "이 영양제의 효능:피로 개선,감기 덜 걸림,스트레스 감소\\/이 영양제와 관련 있는 건강고민 정보:피부건강_피부손상보호\n",
    "이 영양제를 구매한 또 다른 사람은 성별:남\\/연령대:40대\\/특이사항:없음\\/관심 있는 건강고민 정보:갑상선건강,피로감,면역기능,치아&잇몸\\/관심 있는 영양제 효능 정보:피로 개선의 특성을 지난다.\n",
    "7606번의 유저는'해비추얼(와이즐리)_활력충전 멀티비타민&미네랄'라는 이름의 영양제를 구매한 이력이 있다.\n",
    "이 영양제의 효능:피로 개선,감기 덜 걸림,스트레스 감소\\/이 영양제와 관련 있는 건강고민 정보:갑상선건강,피부건강_피부손상보호,피부건강_피부재생,혈당_인슐린작용개선\n",
    "이 영양제를 구매한 또 다른 사람은 성별:남\\/연령대:40대\\/특이사항:없음\\/관심 있는 건강고민 정보:피부건강,갑상선건강,뼈건강,호흡기건강\\/관심 있는 영양제 효능 정보:피로 개선의 특성을 지난다.\n",
    "7606번의 유저가 구매를 고민하고 있는 영양제 A와 B의 정보는 다음과 같다:\n",
    "'A'라는 이름의 영양제는 다음과 같은 특성을 가진다.\n",
    "이 영양제의 효능:피로 개선,눈 떨림 개선,수면질 개선\\/이 영양제와 관련 있는 건강고민 정보:뼈건강,임산부&태아건강,치아&잇몸_치아건강.\n",
    "'B'라는 이름의 영양제는 다음과 같은 특성을 가진다.\n",
    "이 영양제의 효능:피로 개선,감기 덜 걸림,수면질 개선\\/이 영양제와 관련 있는 건강고민 정보:눈건강_안구건조개선,눈건강_야맹증개선,뼈건강,스트레스&수면_긴장완화,여성건강_생리전증후군&생리통개선,치아&잇몸_치아건강,치아잇몸&잇몸건강,피부건강_피부손상보호,혈당_인슐린작용개선.\n",
    "\n",
    "### 답변:\n",
    "\"\"\".strip(), #B\n",
    "\"\"\"\n",
    "### 질문: 25221번의 유저에게 이 A를 추천할까요? 아니면 B를 추천할까요?\\n\\n### 맥락:25221번의 유저는 성별:여\\/연령대:30대\\/특이사항:없음\\/관심 있는 건강고민 정보:혈중중성지방,스트레스&수면,두뇌활동,눈건강,혈관혈액순환,임산부&태아건강\\/관심 있는 영양제 효능 정보:혈압 수치 개선,눈 떨림 개선,학습 능력 향상,안구건조증 개선의 특성을 가지고 있다.\\n25221번의 유저는'노르딕내추럴스_얼티메이트 오메가(소프트젤)'라는 이름의 영양제를 구매한 이력이 있다.\\n이 영양제의 효능:피로 개선,콜레스테롤 수치 개선,얼굴색 좋아짐\\/이 영양제와 관련 있는 건강고민 정보:눈건강_안구건조개선,두뇌활동,스트레스&수면_우울감개선,임산부&태아건강,혈관혈액순환_혈액순환개선,혈중중성지방_중성지방합성억제\\n이 영양제를 구매한 또 다른 사람은 성별:남\\/연령대:30대\\/특이사항:없음\\/관심 있는 건강고민 정보:혈중중성지방,스트레스&수면,두뇌활동,눈건강,혈관혈액순환\\/관심 있는 영양제 효능 정보:어지러움 개선,콜레스테롤 수치 개선,두통 완화,안구건조증 개선의 특성을 지난다.\\n25221번의 유저는'해비추얼(와이즐리)_(단종) 혈행 눈건강 기억력 오메가3'라는 이름의 영양제를 구매한 이력이 있다.\\n이 영양제의 효능:피로 개선,집중력 개선,눈 피로감 개선\\/이 영양제와 관련 있는 건강고민 정보:두뇌활동,스트레스&수면_우울감개선,혈중중성지방_중성지방합성억제\\n이 영양제를 구매한 또 다른 사람은 성별:남\\/연령대:40대\\/특이사항:없음\\/관심 있는 건강고민 정보:혈중중성지방,스트레스&수면,두뇌활동,눈건강,혈관혈액순환\\/관심 있는 영양제 효능 정보:수면질 개선,혈당 수치 개선,눈 떨림 개선,콜레스테롤 수치 개선의 특성을 지난다.\\n25221번의 유저가 구매를 고민하고 있는 영양제 A와 B의 정보는 다음과 같다:\\n'A'라는 이름의 영양제는 다음과 같은 특성을 가진다.\\n이 영양제의 효능:콜레스테롤 수치 개선,저림 개선,수면질 개선\\/이 영양제와 관련 있는 건강고민 정보:혈관혈액순환_혈액순환개선,혈중중성지방_중성지방합성억제.\\n'B'라는 이름의 영양제는 다음과 같은 특성을 가진다.\\n이 영양제의 효능:감기 덜 걸림,비타민 수치 개선,구내염 개선\\/이 영양제와 관련 있는 건강고민 정보:뼈건강_칼슘흡수촉진,호흡기건강.\\n\\n### 답변:\n",
    "\"\"\".strip(), #A\n",
    "\"\"\"\n",
    "### 질문: 7606번의 유저에게 이 A를 추천할까요? 아니면 B를 추천할까요?\\n\\n### 맥락:7606번의 유저는 성별:남\\/연령대:30대\\/특이사항:없음\\/관심 있는 건강고민 정보:피부건강,스트레스&수면,혈당,호흡기건강\\/관심 있는 영양제 효능 정보:피로 개선의 특성을 가지고 있다.\\n7606번의 유저는'해비추얼(와이즐리)_에너지 포커스'라는 이름의 영양제를 구매한 이력이 있다.\\n이 영양제의 효능:피로 개선,감기 덜 걸림,구내염 개선\\/이 영양제와 관련 있는 건강고민 정보:갑상선건강,피부건강_피부손상보호,피부건강_피부재생,혈당_인슐린작용개선\\n이 영양제를 구매한 또 다른 사람은 성별:남\\/연령대:40대\\/특이사항:없음\\/관심 있는 건강고민 정보:피부건강,뼈건강,눈건강,혈관혈액순환\\/관심 있는 영양제 효능 정보:피로 개선의 특성을 지난다.\\n7606번의 유저는'더리틀스_맥스데이 멀티부스터'라는 이름의 영양제를 구매한 이력이 있다.\\n이 영양제의 효능:피로 개선,감기 덜 걸림,눈 피로감 개선\\/이 영양제와 관련 있는 건강고민 정보:피로감,피부건강_피부재생,혈관혈액순환_호모시스테인균형\\n이 영양제를 구매한 또 다른 사람은 성별:남\\/연령대:30대\\/특이사항:없음\\/관심 있는 건강고민 정보:스트레스&수면,치아&잇몸,혈당,눈건강\\/관심 있는 영양제 효능 정보:피로 개선의 특성을 지난다.\\n7606번의 유저가 구매를 고민하고 있는 영양제 A와 B의 정보는 다음과 같다:\\n'B'라는 이름의 영양제는 다음과 같은 특성을 가진다.\\n이 영양제의 효능:피로 개선,감기 덜 걸림,구내염 개선\\/이 영양제와 관련 있는 건강고민 정보:간건강,면역기능,빈혈_혈액생성,뼈건강_칼슘흡수촉진,소화&위식도건강_담즙분비촉진,피로감,피부건강_피부재생,혈관혈액순환_호모시스테인균형,호흡기건강.\\n'A'라는 이름의 영양제는 다음과 같은 특성을 가진다.\\n이 영양제의 효능:피로 개선,감기 덜 걸림,구내염 개선\\/이 영양제와 관련 있는 건강고민 정보:갑상선건강,면역기능,뼈건강,치아&잇몸_치아건강,피부건강_피부손상보호,혈당_인슐린작용개선.\\n\\n### 답변:\n",
    "\"\"\".strip(), #A\n",
    "\"\"\"\n",
    "### 질문: 10935번의 유저에게 이 A를 추천할까요? 아니면 B를 추천할까요?\\n\\n### 맥락:10935번의 유저는 성별:남\\/연령대:40대\\/특이사항:없음\\/관심 있는 건강고민 정보:갑상선건강,치아잇몸&잇몸건강,스트레스&수면,뼈건강\\/관심 있는 영양제 효능 정보:피로 개선의 특성을 가지고 있다.\\n10935번의 유저는'슈퍼뉴트리션_슈퍼 이뮨'라는 이름의 영양제를 구매한 이력이 있다.\\n이 영양제의 효능:피로 개선,감기 덜 걸림,스트레스 감소\\/이 영양제와 관련 있는 건강고민 정보:면역기능,빈혈_혈액생성,뼈건강,뼈건강_칼슘흡수촉진,스트레스&수면_긴장완화,여성건강_생리전증후군&생리통개선,임산부&태아건강,치아&잇몸_치아건강,치아잇몸&잇몸건강,피로감,피부건강_피부손상보호,피부건강_피부재생,혈관혈액순환_호모시스테인균형,혈당_인슐린작용개선\\n이 영양제를 구매한 또 다른 사람은 성별:여\\/연령대:20대\\/특이사항:없음\\/관심 있는 건강고민 정보:빈혈,스트레스&수면,호흡기건강,임산부&태아건강\\/관심 있는 영양제 효능 정보:눈 떨림 개선의 특성을 지난다.\\n10935번의 유저는'닥터스베스트_멀티비타민'라는 이름의 영양제를 구매한 이력이 있다.\\n이 영양제의 효능:피로 개선,감기 덜 걸림,수면질 개선\\/이 영양제와 관련 있는 건강고민 정보:간건강,눈건강_야맹증개선,면역기능,빈혈_혈액생성,뼈건강,뼈건강_칼슘흡수촉진,피로감,피부건강_피부손상보호,피부건강_피부재생,혈관혈액순환_호모시스테인균형,혈당_인슐린작용개선,혈압_체액농도밸런스개선,호흡기건강\\n이 영양제를 구매한 또 다른 사람은 성별:남\\/연령대:20대\\/특이사항:없음\\/관심 있는 건강고민 정보:피로감,혈당,뼈건강,호흡기건강\\/관심 있는 영양제 효능 정보:구내염 개선의 특성을 지난다.\\n10935번의 유저가 구매를 고민하고 있는 영양제 A와 B의 정보는 다음과 같다:\\n'B'라는 이름의 영양제는 다음과 같은 특성을 가진다.\\n이 영양제의 효능:피로 개선,감기 덜 걸림,구내염 개선\\/이 영양제와 관련 있는 건강고민 정보:갑상선건강,면역기능,빈혈_혈액생성,뼈건강,뼈건강_칼슘흡수촉진,치아&잇몸_치아건강,피부건강_피부재생,호흡기건강.\\n'A'라는 이름의 영양제는 다음과 같은 특성을 가진다.\\n이 영양제의 효능:피로 개선,감기 덜 걸림,구내염 개선\\/이 영양제와 관련 있는 건강고민 정보:간건강,면역기능,빈혈_혈액생성,피로감,피부건강_피부재생,혈관혈액순환_호모시스테인균형.\\n\\n### 답변:\n",
    "\"\"\".strip() #B\n",
    "\n",
    "]\n",
    "\n",
    "# A가 1, B가 0"
   ]
  },
  {
   "cell_type": "code",
   "execution_count": 5,
   "metadata": {},
   "outputs": [],
   "source": [
    "import pandas as pd\n",
    "\n",
    "item_info = pd.read_excel('item_info.xlsx')\n",
    "# item_agg_exp = pd.read_excel('item_agg_exp_df.xlsx')\n",
    "user_item = pd.read_excel('./user_item.xlsx')"
   ]
  },
  {
   "cell_type": "code",
   "execution_count": null,
   "metadata": {},
   "outputs": [],
   "source": [
    "'안국건강_안국 루테인 지아잔틴 미니'\n",
    "'암웨이 뉴트리라이트 밸런스 위드인 365 프로바이오틱스'"
   ]
  },
  {
   "cell_type": "code",
   "execution_count": 6,
   "metadata": {},
   "outputs": [],
   "source": [
    "basic_prompt = \"\"\"\n",
    "### 질문: 7606번의 유저에게 이 A를 추천할까요? 아니면 B를 추천할까요?\n",
    "\n",
    "### 맥락:7606번의 유저는 성별:여\\/연령대:20대\\/특이사항:없음\\/관심 있는 건강고민 정보:눈건강,장건강,스트레스&수면\\/관심 있는 영양제 효능 정보:스트레스&수면_긴장완화,눈건강_안구건조개선,장건강_배변활동의 특성을 가지고 있다.\n",
    "7606번의 유저는'안국건강_안국 루테인 지아잔틴 미니'라는 이름의 영양제를 구매한 이력이 있다.\n",
    "이 영양제의 효능:눈 피로감 개선,안구건조증 개선,야맹증 개선/이 영양제와 관련 있는 건강고민 정보:눈건강_황반색소유지\n",
    "이 영양제를 구매한 또 다른 사람은 성별:남\\/연령대:10대\\/특이사항:없음\\/관심 있는 건강고민 정보:눈건강\\/관심 있는 영양제 효능 정보:눈 피로감 개선,시력 개선,야맹증 개선,눈 가려움 완화,안구건조증 개선의 특성을 지난다.\n",
    "7606번의 유저는'암웨이 뉴트리라이트_밸런스 위드인 365 프로바이오틱스'라는 이름의 영양제를 구매한 이력이 있다.\n",
    "이 영양제의 효능:변비 개선,복부 가스 덜 참,설사 빈도 감소/이 영양제와 관련 있는 건강고민 정보:장건강_유익균유해균균형도움\n",
    "이 영양제를 구매한 또 다른 사람은 성별:남\\/연령대:20대\\/특이사항:없음\\/관심 있는 건강고민 정보:피부건강,장건강\\/관심 있는 영양제 효능 정보:아랫배 통증 완화,설사 빈도 감소,뾰루지 감소의 특성을 지난다.\n",
    "7606번의 유저가 구매를 고민하고 있는 영양제 A와 B의 정보는 다음과 같다:\n",
    "\"\"\".strip()"
   ]
  },
  {
   "cell_type": "code",
   "execution_count": 3,
   "metadata": {},
   "outputs": [
    {
     "data": {
      "text/html": [
       "<div>\n",
       "<style scoped>\n",
       "    .dataframe tbody tr th:only-of-type {\n",
       "        vertical-align: middle;\n",
       "    }\n",
       "\n",
       "    .dataframe tbody tr th {\n",
       "        vertical-align: top;\n",
       "    }\n",
       "\n",
       "    .dataframe thead th {\n",
       "        text-align: right;\n",
       "    }\n",
       "</style>\n",
       "<table border=\"1\" class=\"dataframe\">\n",
       "  <thead>\n",
       "    <tr style=\"text-align: right;\">\n",
       "      <th></th>\n",
       "      <th>브랜드명_제품명</th>\n",
       "      <th>제품효과</th>\n",
       "      <th>건강 고민 정보</th>\n",
       "      <th>item_info</th>\n",
       "    </tr>\n",
       "  </thead>\n",
       "  <tbody>\n",
       "    <tr>\n",
       "      <th>0</th>\n",
       "      <td>21세기센트리_L-아르기닌 1000mg</td>\n",
       "      <td>수면질 개선,피로 개선,근육통 완화</td>\n",
       "      <td>남성건강_정자운동성향상,운동능력&amp;근육량_운동능력개선</td>\n",
       "      <td>이 영양제의 효능:수면질 개선,피로 개선,근육통 완화/이 영양제와 관련 있는 건강고...</td>\n",
       "    </tr>\n",
       "    <tr>\n",
       "      <th>1</th>\n",
       "      <td>21세기센트리_마그네슘 250mg</td>\n",
       "      <td>피로 개선,눈 떨림 개선,수면질 개선</td>\n",
       "      <td>스트레스&amp;수면_긴장완화,여성건강_생리전증후군&amp;생리통개선</td>\n",
       "      <td>이 영양제의 효능:피로 개선,눈 떨림 개선,수면질 개선/이 영양제와 관련 있는 건강...</td>\n",
       "    </tr>\n",
       "    <tr>\n",
       "      <th>2</th>\n",
       "      <td>21세기센트리_멀티비타민 &amp; 멀티미네랄 어덜트</td>\n",
       "      <td>피로 개선,감기 덜 걸림,구내염 개선</td>\n",
       "      <td>갑상선건강,눈건강_야맹증개선,면역기능,뼈건강_칼슘흡수촉진,피부건강_피부손상보호,혈당...</td>\n",
       "      <td>이 영양제의 효능:피로 개선,감기 덜 걸림,구내염 개선/이 영양제와 관련 있는 건강...</td>\n",
       "    </tr>\n",
       "    <tr>\n",
       "      <th>3</th>\n",
       "      <td>21세기센트리_칼슘 마그네슘 징크 + D3</td>\n",
       "      <td>피로 개선,눈 떨림 개선,수면질 개선</td>\n",
       "      <td>스트레스&amp;수면_긴장완화,여성건강_생리전증후군&amp;생리통개선,치아&amp;잇몸_치아건강</td>\n",
       "      <td>이 영양제의 효능:피로 개선,눈 떨림 개선,수면질 개선/이 영양제와 관련 있는 건강...</td>\n",
       "    </tr>\n",
       "    <tr>\n",
       "      <th>4</th>\n",
       "      <td>CJ제일제당_BYO 바이오 20억 생유산균</td>\n",
       "      <td>변비 개선,복부 가스 덜 참,설사 빈도 감소</td>\n",
       "      <td>임산부&amp;태아건강,장건강_유익균유해균균형도움</td>\n",
       "      <td>이 영양제의 효능:변비 개선,복부 가스 덜 참,설사 빈도 감소/이 영양제와 관련 있...</td>\n",
       "    </tr>\n",
       "    <tr>\n",
       "      <th>...</th>\n",
       "      <td>...</td>\n",
       "      <td>...</td>\n",
       "      <td>...</td>\n",
       "      <td>...</td>\n",
       "    </tr>\n",
       "    <tr>\n",
       "      <th>729</th>\n",
       "      <td>홀리데이즈_L-아르기닌 1000</td>\n",
       "      <td>운동 능력 증가,운동 후 회복력 좋아짐,수면질 개선</td>\n",
       "      <td>남성건강_정자운동성향상,운동능력&amp;근육량_운동능력개선</td>\n",
       "      <td>이 영양제의 효능:운동 능력 증가,운동 후 회복력 좋아짐,수면질 개선/이 영양제와 ...</td>\n",
       "    </tr>\n",
       "    <tr>\n",
       "      <th>730</th>\n",
       "      <td>홀리데이즈_오메가3 1100</td>\n",
       "      <td>피로 개선,콜레스테롤 수치 개선,수면질 개선</td>\n",
       "      <td>스트레스&amp;수면_우울감개선</td>\n",
       "      <td>이 영양제의 효능:피로 개선,콜레스테롤 수치 개선,수면질 개선/이 영양제와 관련 있...</td>\n",
       "    </tr>\n",
       "    <tr>\n",
       "      <th>731</th>\n",
       "      <td>황금구렁이_황금구렁이</td>\n",
       "      <td>변비 개선,복부 가스 덜 참,설사 빈도 감소</td>\n",
       "      <td>장건강_배변활동</td>\n",
       "      <td>이 영양제의 효능:변비 개선,복부 가스 덜 참,설사 빈도 감소/이 영양제와 관련 있...</td>\n",
       "    </tr>\n",
       "    <tr>\n",
       "      <th>732</th>\n",
       "      <td>휴럼_시서스 스피드 다이어트</td>\n",
       "      <td>식욕 감소,근육량 증가,체중 감소</td>\n",
       "      <td>체지방_지방대사촉진</td>\n",
       "      <td>이 영양제의 효능:식욕 감소,근육량 증가,체중 감소/이 영양제와 관련 있는 건강고민...</td>\n",
       "    </tr>\n",
       "    <tr>\n",
       "      <th>733</th>\n",
       "      <td>휴온스_메리트 C&amp;D</td>\n",
       "      <td>얼굴색 좋아짐,감기 덜 걸림,구내염 개선</td>\n",
       "      <td>면역기능,치아잇몸&amp;잇몸건강,호흡기건강</td>\n",
       "      <td>이 영양제의 효능:얼굴색 좋아짐,감기 덜 걸림,구내염 개선/이 영양제와 관련 있는 ...</td>\n",
       "    </tr>\n",
       "  </tbody>\n",
       "</table>\n",
       "<p>734 rows × 4 columns</p>\n",
       "</div>"
      ],
      "text/plain": [
       "                      브랜드명_제품명                          제품효과  \\\n",
       "0        21세기센트리_L-아르기닌 1000mg           수면질 개선,피로 개선,근육통 완화   \n",
       "1           21세기센트리_마그네슘 250mg          피로 개선,눈 떨림 개선,수면질 개선   \n",
       "2    21세기센트리_멀티비타민 & 멀티미네랄 어덜트          피로 개선,감기 덜 걸림,구내염 개선   \n",
       "3      21세기센트리_칼슘 마그네슘 징크 + D3          피로 개선,눈 떨림 개선,수면질 개선   \n",
       "4      CJ제일제당_BYO 바이오 20억 생유산균      변비 개선,복부 가스 덜 참,설사 빈도 감소   \n",
       "..                         ...                           ...   \n",
       "729          홀리데이즈_L-아르기닌 1000  운동 능력 증가,운동 후 회복력 좋아짐,수면질 개선   \n",
       "730            홀리데이즈_오메가3 1100      피로 개선,콜레스테롤 수치 개선,수면질 개선   \n",
       "731                황금구렁이_황금구렁이      변비 개선,복부 가스 덜 참,설사 빈도 감소   \n",
       "732            휴럼_시서스 스피드 다이어트            식욕 감소,근육량 증가,체중 감소   \n",
       "733                휴온스_메리트 C&D        얼굴색 좋아짐,감기 덜 걸림,구내염 개선   \n",
       "\n",
       "                                              건강 고민 정보  \\\n",
       "0                         남성건강_정자운동성향상,운동능력&근육량_운동능력개선   \n",
       "1                       스트레스&수면_긴장완화,여성건강_생리전증후군&생리통개선   \n",
       "2    갑상선건강,눈건강_야맹증개선,면역기능,뼈건강_칼슘흡수촉진,피부건강_피부손상보호,혈당...   \n",
       "3            스트레스&수면_긴장완화,여성건강_생리전증후군&생리통개선,치아&잇몸_치아건강   \n",
       "4                              임산부&태아건강,장건강_유익균유해균균형도움   \n",
       "..                                                 ...   \n",
       "729                       남성건강_정자운동성향상,운동능력&근육량_운동능력개선   \n",
       "730                                      스트레스&수면_우울감개선   \n",
       "731                                           장건강_배변활동   \n",
       "732                                         체지방_지방대사촉진   \n",
       "733                               면역기능,치아잇몸&잇몸건강,호흡기건강   \n",
       "\n",
       "                                             item_info  \n",
       "0    이 영양제의 효능:수면질 개선,피로 개선,근육통 완화/이 영양제와 관련 있는 건강고...  \n",
       "1    이 영양제의 효능:피로 개선,눈 떨림 개선,수면질 개선/이 영양제와 관련 있는 건강...  \n",
       "2    이 영양제의 효능:피로 개선,감기 덜 걸림,구내염 개선/이 영양제와 관련 있는 건강...  \n",
       "3    이 영양제의 효능:피로 개선,눈 떨림 개선,수면질 개선/이 영양제와 관련 있는 건강...  \n",
       "4    이 영양제의 효능:변비 개선,복부 가스 덜 참,설사 빈도 감소/이 영양제와 관련 있...  \n",
       "..                                                 ...  \n",
       "729  이 영양제의 효능:운동 능력 증가,운동 후 회복력 좋아짐,수면질 개선/이 영양제와 ...  \n",
       "730  이 영양제의 효능:피로 개선,콜레스테롤 수치 개선,수면질 개선/이 영양제와 관련 있...  \n",
       "731  이 영양제의 효능:변비 개선,복부 가스 덜 참,설사 빈도 감소/이 영양제와 관련 있...  \n",
       "732  이 영양제의 효능:식욕 감소,근육량 증가,체중 감소/이 영양제와 관련 있는 건강고민...  \n",
       "733  이 영양제의 효능:얼굴색 좋아짐,감기 덜 걸림,구내염 개선/이 영양제와 관련 있는 ...  \n",
       "\n",
       "[734 rows x 4 columns]"
      ]
     },
     "execution_count": 3,
     "metadata": {},
     "output_type": "execute_result"
    }
   ],
   "source": [
    "item_info"
   ]
  },
  {
   "cell_type": "code",
   "execution_count": 18,
   "metadata": {},
   "outputs": [],
   "source": [
    "item_info_value = item_info.loc[item_info['브랜드명_제품명'] == '휴온스_메리트 C&D', 'item_info'].values[0]"
   ]
  },
  {
   "cell_type": "code",
   "execution_count": 14,
   "metadata": {},
   "outputs": [],
   "source": [
    "compare = \"\"\"\n",
    "'B'라는 이름의 영양제는 다음과 같은 특성을 가진다.\n",
    "이 영양제의 효능:피로 개선,감기 덜 걸림,수면질 개선\\/이 영양제와 관련 있는 건강고민 정보:눈건강_안구건조개선,눈건강_야맹증개선,뼈건강,스트레스&수면_긴장완화,여성건강_생리전증후군&생리통개선,치아&잇몸_치아건강,치아잇몸&잇몸건강,피부건강_피부손상보호,혈당_인슐린작용개선.\n",
    "'A'라는 이름의 영양제는 다음과 같은 특성을 가진다.\n",
    "이 영양제의 효능:피로 개선,눈 떨림 개선,수면질 개선\\/이 영양제와 관련 있는 건강고민 정보:뼈건강,임산부&태아건강,치아&잇몸_치아건강.\n",
    "### 답변:\n",
    "\"\"\""
   ]
  },
  {
   "cell_type": "code",
   "execution_count": 15,
   "metadata": {},
   "outputs": [],
   "source": [
    "sentences = [basic_prompt + compare]"
   ]
  },
  {
   "cell_type": "code",
   "execution_count": 20,
   "metadata": {},
   "outputs": [
    {
     "name": "stdout",
     "output_type": "stream",
     "text": [
      "tensor([[0.7188, 0.2812]], device='cuda:0', dtype=torch.bfloat16)\n",
      "Predicted labels: [0]\n"
     ]
    }
   ],
   "source": [
    "import random\n",
    "import numpy as np\n",
    "\n",
    "# Set the seed for generating random numbers\n",
    "seed = 42\n",
    "\n",
    "# Set the seed for Python's built-in random module\n",
    "random.seed(seed)\n",
    "\n",
    "# Set the seed for numpy\n",
    "np.random.seed(seed)\n",
    "\n",
    "# Set the seed for PyTorch (both CPU and CUDA)\n",
    "torch.manual_seed(seed)\n",
    "if torch.cuda.is_available():\n",
    "    torch.cuda.manual_seed_all(seed)\n",
    "\n",
    "# Set the CuDNN backend to deterministic\n",
    "torch.backends.cudnn.deterministic = True\n",
    "torch.backends.cudnn.benchmark = False\n",
    "\n",
    "for sentence in sentences:\n",
    "    # 배치 인퍼런스를 위한 입력 텍스트\n",
    "    input_texts = sentence\n",
    "\n",
    "    # 토크나이저로 입력 텍스트들을 배치로 변환\n",
    "    inputs = tokenizer(input_texts, return_tensors=\"pt\", padding=True, truncation=True)\n",
    "\n",
    "    # GPU로 이동\n",
    "    inputs = {key: val.cuda() for key, val in inputs.items()}\n",
    "\n",
    "    # 모델 예측\n",
    "    with torch.inference_mode():\n",
    "        outputs = model(**inputs, output_attentions=True)\n",
    "\n",
    "    # 결과값(로짓)을 소프트맥스 함수에 넣어서 확률로 변환\n",
    "    logits = outputs.logits\n",
    "    probabilities = torch.softmax(logits, dim=-1)\n",
    "    print(probabilities)\n",
    "\n",
    "    # 가장 높은 확률을 가진 라벨 선택\n",
    "    predicted_labels = torch.argmax(probabilities, dim=-1).cpu().numpy()\n",
    "\n",
    "    print(f\"Predicted labels: {predicted_labels}\")\n",
    "\n",
    "    # 텐서 해제 및 GPU 메모리 정리\n",
    "    del inputs\n",
    "    del outputs\n",
    "    del logits\n",
    "    del probabilities\n",
    "    torch.cuda.empty_cache()"
   ]
  },
  {
   "cell_type": "code",
   "execution_count": 21,
   "metadata": {},
   "outputs": [
    {
     "data": {
      "text/plain": [
       "0"
      ]
     },
     "execution_count": 21,
     "metadata": {},
     "output_type": "execute_result"
    }
   ],
   "source": [
    "predicted_labels[0]"
   ]
  },
  {
   "cell_type": "code",
   "execution_count": null,
   "metadata": {},
   "outputs": [],
   "source": []
  }
 ],
 "metadata": {
  "kernelspec": {
   "display_name": "minkyung_GLRec",
   "language": "python",
   "name": "python3"
  },
  "language_info": {
   "codemirror_mode": {
    "name": "ipython",
    "version": 3
   },
   "file_extension": ".py",
   "mimetype": "text/x-python",
   "name": "python",
   "nbconvert_exporter": "python",
   "pygments_lexer": "ipython3",
   "version": "3.11.9"
  }
 },
 "nbformat": 4,
 "nbformat_minor": 2
}
