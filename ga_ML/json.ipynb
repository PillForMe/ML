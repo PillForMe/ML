{
 "cells": [
  {
   "cell_type": "code",
   "execution_count": 6,
   "metadata": {},
   "outputs": [
    {
     "name": "stdout",
     "output_type": "stream",
     "text": [
      "CSV 파일이 JSON으로 변환되었습니다.\n"
     ]
    }
   ],
   "source": [
    "import pandas as pd\n",
    "\n",
    "# CSV 파일을 읽어옴\n",
    "df = pd.read_csv('./성분별한계량.csv', encoding='cp949')\n",
    "\n",
    "# DataFrame을 JSON 형식으로 변환\n",
    "json_data = df.to_json(orient='records', force_ascii=False)\n",
    "\n",
    "# JSON 데이터를 파일로 저장\n",
    "with open('성분별한계량.json', 'w') as f:\n",
    "    f.write(json_data)\n",
    "\n",
    "print(\"CSV 파일이 JSON으로 변환되었습니다.\")"
   ]
  },
  {
   "cell_type": "code",
   "execution_count": 8,
   "metadata": {},
   "outputs": [
    {
     "name": "stdout",
     "output_type": "stream",
     "text": [
      "CSV 파일이 JSON으로 변환되었습니다.\n"
     ]
    }
   ],
   "source": [
    "# CSV 파일을 읽어옴\n",
    "df = pd.read_csv('최종_영양제_함량정보(to지현).csv')\n",
    "\n",
    "# DataFrame을 JSON 형식으로 변환\n",
    "json_data = df.to_json(orient='records', force_ascii=False)\n",
    "\n",
    "# JSON 데이터를 파일로 저장\n",
    "with open('최종_영양제_함량정보.json', 'w', encoding='utf-8') as f:\n",
    "    f.write(json_data)\n",
    "\n",
    "print(\"CSV 파일이 JSON으로 변환되었습니다.\")"
   ]
  },
  {
   "cell_type": "code",
   "execution_count": 4,
   "metadata": {},
   "outputs": [
    {
     "name": "stdout",
     "output_type": "stream",
     "text": [
      "CSV 파일이 JSON으로 변환되었습니다.\n"
     ]
    }
   ],
   "source": [
    "import pandas as pd\n",
    "\n",
    "# CSV 파일을 읽어옴\n",
    "df = pd.read_csv('ocr_result1.csv', encoding='cp949')\n",
    "\n",
    "# DataFrame을 JSON 형식으로 변환\n",
    "json_data = df.to_json(orient='records', force_ascii=False)\n",
    "\n",
    "# JSON 데이터를 파일로 저장\n",
    "with open('ocr_result.json', 'w', encoding='utf-8') as f:\n",
    "    f.write(json_data)\n",
    "\n",
    "print(\"CSV 파일이 JSON으로 변환되었습니다.\")"
   ]
  },
  {
   "cell_type": "code",
   "execution_count": null,
   "metadata": {},
   "outputs": [],
   "source": []
  }
 ],
 "metadata": {
  "kernelspec": {
   "display_name": "minkyung_GLRec",
   "language": "python",
   "name": "python3"
  },
  "language_info": {
   "codemirror_mode": {
    "name": "ipython",
    "version": 3
   },
   "file_extension": ".py",
   "mimetype": "text/x-python",
   "name": "python",
   "nbconvert_exporter": "python",
   "pygments_lexer": "ipython3",
   "version": "3.11.9"
  }
 },
 "nbformat": 4,
 "nbformat_minor": 2
}
